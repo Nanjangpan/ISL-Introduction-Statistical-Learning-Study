{
 "cells": [
  {
   "cell_type": "markdown",
   "metadata": {},
   "source": [
    "# Ch5_Resampling Methods Review"
   ]
  },
  {
   "cell_type": "markdown",
   "metadata": {},
   "source": [
    "https://github.com/emredjan/ISL-python"
   ]
  },
  {
   "cell_type": "markdown",
   "metadata": {},
   "source": [
    "## 5.3.1 The Validation Set Approach"
   ]
  },
  {
   "cell_type": "code",
   "execution_count": 1,
   "metadata": {
    "ExecuteTime": {
     "end_time": "2017-07-25T17:58:38.419468Z",
     "start_time": "2017-07-25T17:58:34.854224Z"
    }
   },
   "outputs": [],
   "source": [
    "# imports and setup\n",
    "import numpy as np\n",
    "import pandas as pd\n",
    "\n",
    "pd.set_option('max_columns', 300)\n",
    "pd.set_option('precision', 2) # number precision for pandas\n",
    "pd.set_option('display.float_format', '{:20,.2f}'.format) # get rid of scientific notation"
   ]
  },
  {
   "cell_type": "code",
   "execution_count": 2,
   "metadata": {
    "scrolled": false
   },
   "outputs": [
    {
     "data": {
      "text/html": [
       "<div>\n",
       "<style scoped>\n",
       "    .dataframe tbody tr th:only-of-type {\n",
       "        vertical-align: middle;\n",
       "    }\n",
       "\n",
       "    .dataframe tbody tr th {\n",
       "        vertical-align: top;\n",
       "    }\n",
       "\n",
       "    .dataframe thead th {\n",
       "        text-align: right;\n",
       "    }\n",
       "</style>\n",
       "<table border=\"1\" class=\"dataframe\">\n",
       "  <thead>\n",
       "    <tr style=\"text-align: right;\">\n",
       "      <th></th>\n",
       "      <th>mpg</th>\n",
       "      <th>cylinders</th>\n",
       "      <th>displacement</th>\n",
       "      <th>horsepower</th>\n",
       "      <th>weight</th>\n",
       "      <th>acceleration</th>\n",
       "      <th>year</th>\n",
       "      <th>origin</th>\n",
       "      <th>name</th>\n",
       "    </tr>\n",
       "  </thead>\n",
       "  <tbody>\n",
       "    <tr>\n",
       "      <th>0</th>\n",
       "      <td>18.00</td>\n",
       "      <td>8</td>\n",
       "      <td>307.00</td>\n",
       "      <td>130.00</td>\n",
       "      <td>3504</td>\n",
       "      <td>12.00</td>\n",
       "      <td>70</td>\n",
       "      <td>1</td>\n",
       "      <td>chevrolet chevelle malibu</td>\n",
       "    </tr>\n",
       "    <tr>\n",
       "      <th>1</th>\n",
       "      <td>15.00</td>\n",
       "      <td>8</td>\n",
       "      <td>350.00</td>\n",
       "      <td>165.00</td>\n",
       "      <td>3693</td>\n",
       "      <td>11.50</td>\n",
       "      <td>70</td>\n",
       "      <td>1</td>\n",
       "      <td>buick skylark 320</td>\n",
       "    </tr>\n",
       "    <tr>\n",
       "      <th>2</th>\n",
       "      <td>18.00</td>\n",
       "      <td>8</td>\n",
       "      <td>318.00</td>\n",
       "      <td>150.00</td>\n",
       "      <td>3436</td>\n",
       "      <td>11.00</td>\n",
       "      <td>70</td>\n",
       "      <td>1</td>\n",
       "      <td>plymouth satellite</td>\n",
       "    </tr>\n",
       "    <tr>\n",
       "      <th>3</th>\n",
       "      <td>16.00</td>\n",
       "      <td>8</td>\n",
       "      <td>304.00</td>\n",
       "      <td>150.00</td>\n",
       "      <td>3433</td>\n",
       "      <td>12.00</td>\n",
       "      <td>70</td>\n",
       "      <td>1</td>\n",
       "      <td>amc rebel sst</td>\n",
       "    </tr>\n",
       "    <tr>\n",
       "      <th>4</th>\n",
       "      <td>17.00</td>\n",
       "      <td>8</td>\n",
       "      <td>302.00</td>\n",
       "      <td>140.00</td>\n",
       "      <td>3449</td>\n",
       "      <td>10.50</td>\n",
       "      <td>70</td>\n",
       "      <td>1</td>\n",
       "      <td>ford torino</td>\n",
       "    </tr>\n",
       "  </tbody>\n",
       "</table>\n",
       "</div>"
      ],
      "text/plain": [
       "                   mpg  cylinders         displacement           horsepower  \\\n",
       "0                18.00          8               307.00               130.00   \n",
       "1                15.00          8               350.00               165.00   \n",
       "2                18.00          8               318.00               150.00   \n",
       "3                16.00          8               304.00               150.00   \n",
       "4                17.00          8               302.00               140.00   \n",
       "\n",
       "   weight         acceleration  year  origin                       name  \n",
       "0    3504                12.00    70       1  chevrolet chevelle malibu  \n",
       "1    3693                11.50    70       1          buick skylark 320  \n",
       "2    3436                11.00    70       1         plymouth satellite  \n",
       "3    3433                12.00    70       1              amc rebel sst  \n",
       "4    3449                10.50    70       1                ford torino  "
      ]
     },
     "execution_count": 2,
     "metadata": {},
     "output_type": "execute_result"
    }
   ],
   "source": [
    "#load data, Github Data를 바로 불러올 수 있습니다. n_values는 null값을 채울 수 있는 parameter입니다. keep_default_na와 함께 사용됩니다.\n",
    "auto = pd.read_csv('https://raw.githubusercontent.com/emredjan/ISL-python/master/datasets/Auto.csv', na_values=['?'])\n",
    "auto.head()"
   ]
  },
  {
   "cell_type": "code",
   "execution_count": 3,
   "metadata": {
    "ExecuteTime": {
     "end_time": "2017-07-25T17:58:22.377861Z",
     "start_time": "2017-07-25T17:58:22.297862Z"
    }
   },
   "outputs": [],
   "source": [
    "# 편의성을 위해 결측치 제거\n",
    "auto.dropna(axis=0, inplace=True)\n",
    "\n",
    "# Categorical Data 지정\n",
    "auto.cylinders = auto.cylinders.astype('category')\n",
    "auto.name = auto.name.astype('category')\n",
    "\n",
    "# Index Column을 일반 자료열로 반환\n",
    "auto.reset_index(inplace=True)\n",
    "\n",
    "#Polynomial Feature 생성\n",
    "auto['horsepower_2'] = np.power(auto.horsepower, 2)\n",
    "auto['horsepower_3'] = np.power(auto.horsepower, 3)\n",
    "auto['horsepower_4'] = np.power(auto.horsepower, 4)\n",
    "auto['horsepower_5'] = np.power(auto.horsepower, 5)\n",
    "\n",
    "# Polynomial Features using sklearn:\n",
    "from sklearn.preprocessing import PolynomialFeatures\n",
    "pol = PolynomialFeatures(degree=5, interaction_only=False, include_bias=False)\n",
    "polf = pol.fit_transform(auto.loc[:, 'horsepower'].values.reshape(-1, 1))"
   ]
  },
  {
   "cell_type": "markdown",
   "metadata": {},
   "source": [
    "Validation set Approach는 sklearn.model_selection의 <strong>train_test_split</strong>을 이용합니다. <br>\n",
    "아래의 <strong>X_test, y_test</strong>는 이름만 test일 뿐 Validation Set이라고 이해하면 될 것 같습니다.<br><br>\n",
    "\n",
    "horsepower의 1차, 2차, 3차를 독립변수로, mpg를 종속변수로 사용합니다"
   ]
  },
  {
   "cell_type": "code",
   "execution_count": 4,
   "metadata": {},
   "outputs": [],
   "source": [
    "from sklearn.model_selection import train_test_split\n",
    "\n",
    "X, y = auto.loc[:, ['horsepower', 'horsepower_2', 'horsepower_3']], auto.mpg\n",
    "X_train, X_test, y_train, y_test = train_test_split(X, y, test_size=0.5, random_state=42)"
   ]
  },
  {
   "cell_type": "code",
   "execution_count": 5,
   "metadata": {},
   "outputs": [
    {
     "name": "stdout",
     "output_type": "stream",
     "text": [
      "lm1 MSE: 25.573878189684397\n",
      "lm2 MSE: 22.218020050032855\n",
      "lm3 MSE: 22.66767543553483\n"
     ]
    }
   ],
   "source": [
    "from sklearn.linear_model import LinearRegression\n",
    "from sklearn.metrics import mean_squared_error\n",
    "\n",
    "# ols model with intercept. fit_intercept parameter는 모델에 상수항을 넣을지 말지 결정합니다.\n",
    "lm1 = LinearRegression(fit_intercept=True)\n",
    "lm2 = LinearRegression(fit_intercept=True)\n",
    "lm3 = LinearRegression(fit_intercept=True)\n",
    "\n",
    "lm1_fit = lm1.fit(X_train.loc[:, 'horsepower'].values.reshape(-1, 1), y_train)\n",
    "lm2_fit = lm2.fit(X_train.loc[:, ['horsepower', 'horsepower_2']], y_train)\n",
    "lm3_fit = lm3.fit(X_train.loc[:, ['horsepower', 'horsepower_2', 'horsepower_3']], y_train)\n",
    "\n",
    "lm1_predict = lm1_fit.predict(X_test.loc[:, 'horsepower'].values.reshape(-1, 1))\n",
    "lm2_predict = lm2_fit.predict(X_test.loc[:, ['horsepower', 'horsepower_2']])\n",
    "lm3_predict = lm3_fit.predict(X_test.loc[:, ['horsepower', 'horsepower_2', 'horsepower_3']])\n",
    "\n",
    "print('lm1 MSE:', mean_squared_error(y_test, lm1_predict))\n",
    "print('lm2 MSE:', mean_squared_error(y_test, lm2_predict))\n",
    "print('lm3 MSE:', mean_squared_error(y_test, lm3_predict))"
   ]
  },
  {
   "cell_type": "markdown",
   "metadata": {},
   "source": [
    "## 5.3.2 Leave-One-Out Cross-Validation"
   ]
  },
  {
   "cell_type": "markdown",
   "metadata": {},
   "source": [
    "LOOCV 방식은 sklearn에서 지원합니다. model_selection에서 불러옵니다"
   ]
  },
  {
   "cell_type": "code",
   "execution_count": 6,
   "metadata": {
    "scrolled": true
   },
   "outputs": [
    {
     "data": {
      "text/plain": [
       "True"
      ]
     },
     "execution_count": 6,
     "metadata": {},
     "output_type": "execute_result"
    }
   ],
   "source": [
    "from sklearn.model_selection import LeaveOneOut\n",
    "\n",
    "X, y = auto.loc[:, ['horsepower', 'horsepower_2', 'horsepower_3', 'horsepower_4', 'horsepower_5']], auto.mpg\n",
    "\n",
    "loocv = LeaveOneOut()\n",
    "loocv.get_n_splits(X)\n",
    "\n",
    "#get_n_splits method는 입력받은 DataSet을 관측치 개수 n으로 쪼갭니다. auto DataFrame의 길이와 일치하는지 봅시다.\n",
    "loocv.get_n_splits(X) == len(auto) "
   ]
  },
  {
   "cell_type": "code",
   "execution_count": 7,
   "metadata": {},
   "outputs": [
    {
     "data": {
      "text/plain": [
       "24.23151351792923"
      ]
     },
     "execution_count": 7,
     "metadata": {},
     "output_type": "execute_result"
    }
   ],
   "source": [
    "# Split이 완료되었으므로 MSE를 산출해봅시다.\n",
    "# sklearn이 지원하는 cross_validation_score를 이용하여 쉽게 MSE를 산출할 수 있습니다.\n",
    "# 여러가지 k값을 쉽게 확인해 볼 수 있습니다.\n",
    "# LOOCV의 방식은 K-Fold에서 k = n으로 설정한 것과 동일합니다.\n",
    "\n",
    "from sklearn.model_selection import cross_val_score\n",
    "\n",
    "lm = LinearRegression(fit_intercept=True)\n",
    "\n",
    "cval = cross_val_score(estimator = lm, \n",
    "                       X = auto.loc[:, 'horsepower'].values.reshape(-1, 1), \n",
    "                       y = auto.mpg, \n",
    "                       cv=len(auto), #Fold 횟수를 지정. Estimator가 Classifier면 stratifiedKfold가, 아니라면 Kfold로 적용. Default는 k=3입니다. 여기서는 k = n으로 설정합니다.\n",
    "                       n_jobs=-1, #하드웨어 관련 지표, 연산 시 CPU를 몇개 사용할 것이냐에 관한 parameter입니다.\n",
    "                       scoring='neg_mean_squared_error')\n",
    "-cval.mean()\n",
    "\n",
    "## Notation ##\n",
    "#사이킷런의 교차 검증 기능은 scoring 매개변수에 (낮을수록 좋은) 비용 함수가 아니라 (클수록 좋은) 효용 함수를 기대합니다. \n",
    "#그래서 평균 제곱 오차(MSE)의 반댓값(즉, 음숫값)을 계산하는 neg_mean_squared_error 함수를 사용합니다. \n",
    "# 이런 이유로 앞선 코드에서 제곱근을 계산하기 전에 -scores로 부호를 바꿨습니다"
   ]
  },
  {
   "cell_type": "code",
   "execution_count": 20,
   "metadata": {},
   "outputs": [
    {
     "data": {
      "text/plain": [
       "24.231513517929226"
      ]
     },
     "execution_count": 20,
     "metadata": {},
     "output_type": "execute_result"
    }
   ],
   "source": [
    "# 정석대로 MSE를 산출하는 과정을 구현한 코드입니다.\n",
    "# for 구문을 이용해 n개의 mse의 평균을 구합니다.\n",
    "\n",
    "loocv_mse = []\n",
    "lm = LinearRegression(fit_intercept=True)\n",
    "\n",
    "for train_index, test_index in loocv.split(X):\n",
    "    X_train, X_test = X.iloc[train_index], X.iloc[test_index]\n",
    "    y_train, y_test = y.iloc[train_index], y.iloc[test_index]\n",
    "    \n",
    "    lm1_fit = lm.fit(X_train.loc[:, 'horsepower'].values.reshape(-1, 1), y_train)\n",
    "    lm1_predict = lm1_fit.predict(X_test.loc[:, 'horsepower'].values.reshape(-1, 1))\n",
    "    \n",
    "    loocv_mse.append(mean_squared_error(y_test, lm1_predict))\n",
    "    \n",
    "np.array(loocv_mse).mean()\n",
    "#동일한 값이 산출됩니다."
   ]
  },
  {
   "cell_type": "code",
   "execution_count": 8,
   "metadata": {
    "collapsed": true
   },
   "outputs": [],
   "source": [
    "# Loop for 5 degree polinomial linear regressions with LOOCV\n",
    "\n",
    "loocv_poly = {} #1차~5차 Polinomial Regression 결과물을 담을 Dictionary를 형성합니다.\n",
    "\n",
    "for i in range(1, 6):\n",
    "    \n",
    "    loocv_mse = [] #여기엔 각 Polinomial Regression에서의 n개의 MSE 값들이 담길 예정입니다.\n",
    "    \n",
    "    for train_index, test_index in loocv.split(X):\n",
    "        X_train, X_test = X.iloc[train_index], X.iloc[test_index]\n",
    "        y_train, y_test = y.iloc[train_index], y.iloc[test_index]\n",
    "        \n",
    "        if i == 1:\n",
    "            X_TRAIN = X_train.iloc[:,0:1].values.reshape(-1, 1)\n",
    "            X_TEST = X_test.iloc[:,0:1].values.reshape(-1, 1)\n",
    "        else:\n",
    "            X_TRAIN = X_train.iloc[:,0:i]\n",
    "            X_TEST = X_test.iloc[:,0:i]\n",
    "        \n",
    "        loocv_mse.append(\n",
    "            mean_squared_error(\n",
    "                y_test, \n",
    "                LinearRegression(fit_intercept=True)\n",
    "                .fit(\n",
    "                    X_TRAIN, \n",
    "                    y_train\n",
    "                )\n",
    "                .predict(\n",
    "                    X_TEST\n",
    "                )\n",
    "            )\n",
    "        )\n",
    "        \n",
    "        loocv_poly['lm' + str(i) + '_MSE'] = np.array(loocv_mse).mean()"
   ]
  },
  {
   "cell_type": "code",
   "execution_count": 9,
   "metadata": {},
   "outputs": [
    {
     "data": {
      "text/plain": [
       "{'lm1_MSE': 24.231513517929226,\n",
       " 'lm2_MSE': 19.24821312448967,\n",
       " 'lm3_MSE': 19.334984064029452,\n",
       " 'lm4_MSE': 19.4244303103955,\n",
       " 'lm5_MSE': 19.033212415190256}"
      ]
     },
     "execution_count": 9,
     "metadata": {},
     "output_type": "execute_result"
    }
   ],
   "source": [
    "loocv_poly"
   ]
  },
  {
   "cell_type": "markdown",
   "metadata": {},
   "source": [
    "## 5.3.3 k-Fold Cross-Validation"
   ]
  },
  {
   "cell_type": "markdown",
   "metadata": {},
   "source": [
    "K-Fold 역시 sklearn에서 지원합니다."
   ]
  },
  {
   "cell_type": "code",
   "execution_count": 40,
   "metadata": {},
   "outputs": [],
   "source": [
    "from sklearn.model_selection import KFold\n",
    "\n",
    "X, y = auto.loc[:, ['horsepower', 'horsepower_2', 'horsepower_3', 'horsepower_4', 'horsepower_5']], auto.mpg\n",
    "\n",
    "kf = KFold(n_splits=10, shuffle=True)"
   ]
  },
  {
   "cell_type": "code",
   "execution_count": 48,
   "metadata": {
    "scrolled": true
   },
   "outputs": [
    {
     "data": {
      "text/plain": [
       "{'lm1_MSE': 24.130025140004868,\n",
       " 'lm2_MSE': 19.3154074298033,\n",
       " 'lm3_MSE': 19.280670718487826,\n",
       " 'lm4_MSE': 19.325065136649766,\n",
       " 'lm5_MSE': 18.933026042200574}"
      ]
     },
     "execution_count": 48,
     "metadata": {},
     "output_type": "execute_result"
    }
   ],
   "source": [
    "# 각 차수별 MSE를 추정합니다.\n",
    "# Loop for 5 degree polinomial linear regressions with k-Fold CV\n",
    "\n",
    "kf_poly = {}\n",
    "\n",
    "for i in range(1, 6):\n",
    "    \n",
    "    kf_mse = []\n",
    "    \n",
    "    for train_index, test_index in kf.split(X):\n",
    "        X_train, X_test = X.iloc[train_index], X.iloc[test_index]\n",
    "        y_train, y_test = y.iloc[train_index], y.iloc[test_index]\n",
    "        \n",
    "        if i == 1:\n",
    "            X_TRAIN = X_train.iloc[:,0:1].values.reshape(-1, 1)\n",
    "            X_TEST = X_test.iloc[:,0:1].values.reshape(-1, 1)\n",
    "        else:\n",
    "            X_TRAIN = X_train.iloc[:,0:i]\n",
    "            X_TEST = X_test.iloc[:,0:i]\n",
    "        \n",
    "        kf_mse.append(\n",
    "            mean_squared_error(\n",
    "                y_test, \n",
    "                LinearRegression(fit_intercept=True)\n",
    "                .fit(\n",
    "                    X_TRAIN, \n",
    "                    y_train\n",
    "                )\n",
    "                .predict(\n",
    "                    X_TEST\n",
    "                )\n",
    "            )\n",
    "        )\n",
    "        \n",
    "        kf_poly['lm' + str(i) + '_MSE'] = np.array(kf_mse).mean()\n",
    "\n",
    "kf_poly"
   ]
  },
  {
   "cell_type": "code",
   "execution_count": 31,
   "metadata": {},
   "outputs": [
    {
     "name": "stdout",
     "output_type": "stream",
     "text": [
      "5-Fold Result: 31.45\n",
      "10-Fold Result: 27.44\n"
     ]
    }
   ],
   "source": [
    "# Q. 그냥 만들어봤는데, 왜 결과가 다를까요?\n",
    "# from sklearn.model_selection import cross_val_score\n",
    "\n",
    "lm = LinearRegression(fit_intercept=True)\n",
    "\n",
    "\n",
    "for i in [5,10]:\n",
    "    cval = cross_val_score(estimator = lm, \n",
    "                           X_ = auto.loc[:, 'horsepower'].values.reshape(-1, 1), \n",
    "                           y_ = auto.mpg, \n",
    "                           cv=i, \n",
    "                           scoring='neg_mean_squared_error')\n",
    "    \n",
    "    print('{}-Fold Result:'.format(i), format(-cval.mean(),\".2f\"))"
   ]
  },
  {
   "cell_type": "markdown",
   "metadata": {},
   "source": [
    "Q. 교차검증은 모델을 조금 더 정확하게 적합시키는 도구가 아니라면, 실제로는 어떤 상황에서 쓰이는 걸까요?"
   ]
  },
  {
   "cell_type": "markdown",
   "metadata": {},
   "source": [
    "## 5.3.4 The Bootstrap"
   ]
  },
  {
   "cell_type": "markdown",
   "metadata": {},
   "source": [
    "다른 예시를 통해 Bootstrap 개념에 접근합니다"
   ]
  },
  {
   "cell_type": "code",
   "execution_count": 33,
   "metadata": {
    "scrolled": true
   },
   "outputs": [
    {
     "data": {
      "text/html": [
       "<div>\n",
       "<style scoped>\n",
       "    .dataframe tbody tr th:only-of-type {\n",
       "        vertical-align: middle;\n",
       "    }\n",
       "\n",
       "    .dataframe tbody tr th {\n",
       "        vertical-align: top;\n",
       "    }\n",
       "\n",
       "    .dataframe thead th {\n",
       "        text-align: right;\n",
       "    }\n",
       "</style>\n",
       "<table border=\"1\" class=\"dataframe\">\n",
       "  <thead>\n",
       "    <tr style=\"text-align: right;\">\n",
       "      <th></th>\n",
       "      <th>X</th>\n",
       "      <th>Y</th>\n",
       "    </tr>\n",
       "  </thead>\n",
       "  <tbody>\n",
       "    <tr>\n",
       "      <th>1</th>\n",
       "      <td>-0.90</td>\n",
       "      <td>-0.23</td>\n",
       "    </tr>\n",
       "    <tr>\n",
       "      <th>2</th>\n",
       "      <td>-1.56</td>\n",
       "      <td>-0.89</td>\n",
       "    </tr>\n",
       "    <tr>\n",
       "      <th>3</th>\n",
       "      <td>-0.42</td>\n",
       "      <td>0.27</td>\n",
       "    </tr>\n",
       "    <tr>\n",
       "      <th>4</th>\n",
       "      <td>1.04</td>\n",
       "      <td>-0.73</td>\n",
       "    </tr>\n",
       "    <tr>\n",
       "      <th>5</th>\n",
       "      <td>-0.32</td>\n",
       "      <td>0.84</td>\n",
       "    </tr>\n",
       "  </tbody>\n",
       "</table>\n",
       "</div>"
      ],
      "text/plain": [
       "                     X                    Y\n",
       "1                -0.90                -0.23\n",
       "2                -1.56                -0.89\n",
       "3                -0.42                 0.27\n",
       "4                 1.04                -0.73\n",
       "5                -0.32                 0.84"
      ]
     },
     "execution_count": 33,
     "metadata": {},
     "output_type": "execute_result"
    }
   ],
   "source": [
    "portfolio = pd.read_csv('https://raw.githubusercontent.com/emredjan/ISL-python/master/datasets/Portfolio.csv', index_col=0)\n",
    "portfolio.head()"
   ]
  },
  {
   "cell_type": "code",
   "execution_count": 16,
   "metadata": {},
   "outputs": [
    {
     "data": {
      "text/plain": [
       "100"
      ]
     },
     "execution_count": 16,
     "metadata": {},
     "output_type": "execute_result"
    }
   ],
   "source": [
    "len(portfolio)"
   ]
  },
  {
   "cell_type": "code",
   "execution_count": 13,
   "metadata": {},
   "outputs": [
    {
     "data": {
      "text/plain": [
       "array([[1.12864236, 0.62635829],\n",
       "       [0.62635829, 1.30823747]])"
      ]
     },
     "execution_count": 13,
     "metadata": {},
     "output_type": "execute_result"
    }
   ],
   "source": [
    "#numpy의 covariance method는 행을 변수로, 열을 관측치로 입력받도록 되어있습니다. rowvar를 통해서 이 설정을 바꿀 수 있습니다.\n",
    "\n",
    "np.cov(portfolio, rowvar = False)"
   ]
  },
  {
   "cell_type": "code",
   "execution_count": 11,
   "metadata": {
    "scrolled": true
   },
   "outputs": [
    {
     "data": {
      "text/plain": [
       "array([[1.12864236, 0.62635829],\n",
       "       [0.62635829, 1.30823747]])"
      ]
     },
     "execution_count": 11,
     "metadata": {},
     "output_type": "execute_result"
    }
   ],
   "source": [
    "#이런 방식으로도 구할 수 있습니다.\n",
    "\n",
    "np.cov(portfolio.X, portfolio.Y)"
   ]
  },
  {
   "cell_type": "code",
   "execution_count": 22,
   "metadata": {},
   "outputs": [],
   "source": [
    "# 위 portfolio sample을 가지고 교재 5.7(187p)에 정의된 alpha 추정 값을 구합니다. \n",
    "# alpha만큼 X에, 1-alpha만큼 Y에 투자해야 총 위험을 줄일 수 있습니다.\n",
    "\n",
    "def alpha_fn(data, start_index, end_index):\n",
    "    X = data['X'][start_index:end_index]\n",
    "    Y = data['Y'][start_index:end_index]\n",
    "    return ((np.var(Y) - np.cov(X, Y)[0][1]) / (np.var(X) + np.var(Y) - 2 * np.cov(X, Y)[0][1]))"
   ]
  },
  {
   "cell_type": "code",
   "execution_count": 23,
   "metadata": {},
   "outputs": [
    {
     "data": {
      "text/plain": [
       "0.5766511516104118"
      ]
     },
     "execution_count": 23,
     "metadata": {},
     "output_type": "execute_result"
    }
   ],
   "source": [
    "alpha_fn(portfolio, 0, 100)"
   ]
  },
  {
   "cell_type": "code",
   "execution_count": 25,
   "metadata": {},
   "outputs": [
    {
     "data": {
      "text/plain": [
       "0.596808037627385"
      ]
     },
     "execution_count": 25,
     "metadata": {},
     "output_type": "execute_result"
    }
   ],
   "source": [
    "from sklearn.utils import resample\n",
    "\n",
    "portfolio_bs = resample(portfolio, replace=True, n_samples=100)\n",
    "alpha_fn(portfolio_bs, 0, 100)\n",
    "\n",
    "#참고로 이 값은 매번 다르게 나옵니다."
   ]
  },
  {
   "cell_type": "markdown",
   "metadata": {},
   "source": [
    "--------------------------"
   ]
  },
  {
   "cell_type": "markdown",
   "metadata": {},
   "source": [
    "### sklearn.utils.resample?\n",
    "\n",
    "주어진 array나 dataframe을 resample 해줍니다. parameter의 replace를 True로 해주면 복원추출을 통해 n_sample만큼의 표본을 재추출해줍니다. 다시말해, 100개의 관측치를 가진 하나의 sample data 로 여러개의 서로 다른 표본을 만들 수 있습니다."
   ]
  },
  {
   "cell_type": "code",
   "execution_count": 19,
   "metadata": {
    "scrolled": false
   },
   "outputs": [
    {
     "data": {
      "text/html": [
       "<div>\n",
       "<style scoped>\n",
       "    .dataframe tbody tr th:only-of-type {\n",
       "        vertical-align: middle;\n",
       "    }\n",
       "\n",
       "    .dataframe tbody tr th {\n",
       "        vertical-align: top;\n",
       "    }\n",
       "\n",
       "    .dataframe thead th {\n",
       "        text-align: right;\n",
       "    }\n",
       "</style>\n",
       "<table border=\"1\" class=\"dataframe\">\n",
       "  <thead>\n",
       "    <tr style=\"text-align: right;\">\n",
       "      <th></th>\n",
       "      <th>S</th>\n",
       "      <th>L</th>\n",
       "    </tr>\n",
       "  </thead>\n",
       "  <tbody>\n",
       "    <tr>\n",
       "      <th>0</th>\n",
       "      <td>1</td>\n",
       "      <td>6</td>\n",
       "    </tr>\n",
       "    <tr>\n",
       "      <th>1</th>\n",
       "      <td>2</td>\n",
       "      <td>7</td>\n",
       "    </tr>\n",
       "    <tr>\n",
       "      <th>2</th>\n",
       "      <td>3</td>\n",
       "      <td>8</td>\n",
       "    </tr>\n",
       "    <tr>\n",
       "      <th>3</th>\n",
       "      <td>4</td>\n",
       "      <td>9</td>\n",
       "    </tr>\n",
       "    <tr>\n",
       "      <th>4</th>\n",
       "      <td>5</td>\n",
       "      <td>10</td>\n",
       "    </tr>\n",
       "  </tbody>\n",
       "</table>\n",
       "</div>"
      ],
      "text/plain": [
       "   S   L\n",
       "0  1   6\n",
       "1  2   7\n",
       "2  3   8\n",
       "3  4   9\n",
       "4  5  10"
      ]
     },
     "execution_count": 19,
     "metadata": {},
     "output_type": "execute_result"
    }
   ],
   "source": [
    "example = pd.DataFrame({'S':[1,2,3,4,5],'L':[6,7,8,9,10]})\n",
    "example"
   ]
  },
  {
   "cell_type": "code",
   "execution_count": 30,
   "metadata": {},
   "outputs": [
    {
     "data": {
      "text/html": [
       "<div>\n",
       "<style scoped>\n",
       "    .dataframe tbody tr th:only-of-type {\n",
       "        vertical-align: middle;\n",
       "    }\n",
       "\n",
       "    .dataframe tbody tr th {\n",
       "        vertical-align: top;\n",
       "    }\n",
       "\n",
       "    .dataframe thead th {\n",
       "        text-align: right;\n",
       "    }\n",
       "</style>\n",
       "<table border=\"1\" class=\"dataframe\">\n",
       "  <thead>\n",
       "    <tr style=\"text-align: right;\">\n",
       "      <th></th>\n",
       "      <th>S</th>\n",
       "      <th>L</th>\n",
       "    </tr>\n",
       "  </thead>\n",
       "  <tbody>\n",
       "    <tr>\n",
       "      <th>0</th>\n",
       "      <td>1</td>\n",
       "      <td>6</td>\n",
       "    </tr>\n",
       "    <tr>\n",
       "      <th>0</th>\n",
       "      <td>1</td>\n",
       "      <td>6</td>\n",
       "    </tr>\n",
       "    <tr>\n",
       "      <th>4</th>\n",
       "      <td>5</td>\n",
       "      <td>10</td>\n",
       "    </tr>\n",
       "    <tr>\n",
       "      <th>2</th>\n",
       "      <td>3</td>\n",
       "      <td>8</td>\n",
       "    </tr>\n",
       "    <tr>\n",
       "      <th>3</th>\n",
       "      <td>4</td>\n",
       "      <td>9</td>\n",
       "    </tr>\n",
       "  </tbody>\n",
       "</table>\n",
       "</div>"
      ],
      "text/plain": [
       "   S   L\n",
       "0  1   6\n",
       "0  1   6\n",
       "4  5  10\n",
       "2  3   8\n",
       "3  4   9"
      ]
     },
     "execution_count": 30,
     "metadata": {},
     "output_type": "execute_result"
    }
   ],
   "source": [
    "resample(example, replace = True, n_samples = 5)"
   ]
  },
  {
   "cell_type": "markdown",
   "metadata": {},
   "source": [
    "----------------------------"
   ]
  },
  {
   "cell_type": "code",
   "execution_count": 16,
   "metadata": {},
   "outputs": [
    {
     "name": "stdout",
     "output_type": "stream",
     "text": [
      "Bootstrapped alpha: 0.579786733577\n",
      "SE: 0.0926415047351\n"
     ]
    }
   ],
   "source": [
    "# Bootstrap is removed from sklearn...그렇다고 합니다.\n",
    "# 100개의 관측치를 가진 portfolio data sample을 1000번 복원추출하여 alpha 추정치 1000개를 만들고 평균과 분포를 구합니다.\n",
    "\n",
    "\n",
    "bs_alpha = []\n",
    "\n",
    "for i in range(0, 1000):\n",
    "    bs_alpha.append(\n",
    "        alpha_fn(resample(portfolio, replace=True, n_samples=100), 0, 100)\n",
    "    )\n",
    "\n",
    "bs_alpha = np.array(bs_alpha)\n",
    "\n",
    "print('Bootstrapped alpha:', bs_alpha.mean())\n",
    "print('SE:',  bs_alpha.std())"
   ]
  },
  {
   "cell_type": "markdown",
   "metadata": {},
   "source": [
    "--------------------------------------"
   ]
  },
  {
   "cell_type": "markdown",
   "metadata": {},
   "source": [
    "다시 horsepower 예시로 돌아가 봅시다"
   ]
  },
  {
   "cell_type": "code",
   "execution_count": 17,
   "metadata": {},
   "outputs": [
    {
     "data": {
      "text/plain": [
       "(39.935861021170467, array([-0.15784473]))"
      ]
     },
     "execution_count": 17,
     "metadata": {},
     "output_type": "execute_result"
    }
   ],
   "source": [
    "#주어진 관측치를 통해 X = horsepower, Y = mpg인 선형 회귀의 B0와 B1을 추출하는 함수를 만듭니다.\n",
    "\n",
    "def boot_fn(data, start_index, end_index):\n",
    "    m = LinearRegression(fit_intercept=True).fit(\n",
    "        data['horsepower'][start_index:end_index].values.reshape(-1, 1),\n",
    "        data['mpg'][start_index:end_index]\n",
    "    )\n",
    "    \n",
    "    return m.intercept_, m.coef_\n",
    "    \n",
    "boot_fn(auto, 0, 392) #auto data set의 관측치는 392개입니다."
   ]
  },
  {
   "cell_type": "code",
   "execution_count": 18,
   "metadata": {},
   "outputs": [
    {
     "data": {
      "text/plain": [
       "(39.976257979933948, array([-0.15837384]))"
      ]
     },
     "execution_count": 18,
     "metadata": {},
     "output_type": "execute_result"
    }
   ],
   "source": [
    "#Resample을 거친 auto에도 동일한 함수를 적용합니다. 큰 차이가 나지 않습니다.\n",
    "\n",
    "boot_fn(resample(auto, replace=True, n_samples=392), 0, 392)"
   ]
  },
  {
   "cell_type": "code",
   "execution_count": 19,
   "metadata": {},
   "outputs": [
    {
     "name": "stdout",
     "output_type": "stream",
     "text": [
      "t1 bs estimate & se: 39.9525008766 0.87663899372\n",
      "t2 bs estimate & se: -0.158546240855 0.00740859983384\n"
     ]
    }
   ],
   "source": [
    "#1000번의 Resampling을 통해 B0, B1의 분포에 대한 정보(평균과 표준편차)를 구합니다.\n",
    "\n",
    "bs_boot = {'t1': [], 't2': []}\n",
    "\n",
    "for i in range(0, 1000):\n",
    "    bs_boot['t1'].append(\n",
    "        boot_fn(resample(auto, replace=True, n_samples=392), 0, 392)[0]\n",
    "    )\n",
    "    bs_boot['t2'].append(\n",
    "        boot_fn(resample(auto, replace=True, n_samples=392), 0, 392)[1][0]\n",
    "    )\n",
    "\n",
    "t1_es = np.array(bs_boot['t1']).mean()\n",
    "t1_se = np.array(bs_boot['t1']).std()\n",
    "t2_es = np.array(bs_boot['t2']).mean()\n",
    "t2_se = np.array(bs_boot['t2']).std()\n",
    "\n",
    "print('t1 bs estimate & se:', t1_es, t1_se)\n",
    "print('t2 bs estimate & se:', t2_es, t2_se)"
   ]
  },
  {
   "cell_type": "code",
   "execution_count": 20,
   "metadata": {},
   "outputs": [
    {
     "data": {
      "text/html": [
       "<table class=\"simpletable\">\n",
       "<tr>\n",
       "       <td></td>         <th>coef</th>     <th>std err</th>      <th>t</th>      <th>P>|t|</th>  <th>[0.025</th>    <th>0.975]</th>  \n",
       "</tr>\n",
       "<tr>\n",
       "  <th>Intercept</th>  <td>   39.9359</td> <td>    0.717</td> <td>   55.660</td> <td> 0.000</td> <td>   38.525</td> <td>   41.347</td>\n",
       "</tr>\n",
       "<tr>\n",
       "  <th>horsepower</th> <td>   -0.1578</td> <td>    0.006</td> <td>  -24.489</td> <td> 0.000</td> <td>   -0.171</td> <td>   -0.145</td>\n",
       "</tr>\n",
       "</table>"
      ],
      "text/plain": [
       "<class 'statsmodels.iolib.table.SimpleTable'>"
      ]
     },
     "execution_count": 20,
     "metadata": {},
     "output_type": "execute_result"
    }
   ],
   "source": [
    "#stats model을 통해 비교해 봅시다.\n",
    "\n",
    "import statsmodels.formula.api as sm\n",
    "\n",
    "ols = sm.ols('mpg ~ horsepower', data=auto).fit()\n",
    "ols.summary().tables[1]"
   ]
  },
  {
   "cell_type": "code",
   "execution_count": 21,
   "metadata": {
    "collapsed": true
   },
   "outputs": [],
   "source": [
    "#Polynomial Regression에도 적용해 봅시다.\n",
    "\n",
    "def boot_fn2(data, start_index, end_index):\n",
    "    m = LinearRegression(fit_intercept=True).fit(\n",
    "        data[['horsepower', 'horsepower_2']][start_index:end_index],\n",
    "        data['mpg'][start_index:end_index]\n",
    "    )\n",
    "    \n",
    "    return m.intercept_, m.coef_"
   ]
  },
  {
   "cell_type": "code",
   "execution_count": 22,
   "metadata": {
    "scrolled": true
   },
   "outputs": [
    {
     "name": "stdout",
     "output_type": "stream",
     "text": [
      "t1 bs estimate & se: 56.9019483024 2.09407566128\n",
      "t2 bs estimate & se: -0.467255812708 0.0328945365585\n",
      "t3 bs estimate & se: 0.00123678486306 0.000123419462541\n"
     ]
    }
   ],
   "source": [
    "bs_boot2 = {'t1': [], 't2': [], 't3': []}\n",
    "\n",
    "for i in range(0, 1000):\n",
    "    bs_boot2['t1'].append(\n",
    "        boot_fn2(resample(auto, replace=True, n_samples=392), 0, 392)[0]\n",
    "    )\n",
    "    bs_boot2['t2'].append(\n",
    "        boot_fn2(resample(auto, replace=True, n_samples=392), 0, 392)[1][0]\n",
    "    )\n",
    "    bs_boot2['t3'].append(\n",
    "        boot_fn2(resample(auto, replace=True, n_samples=392), 0, 392)[1][1]\n",
    "    )\n",
    "\n",
    "\n",
    "t1_es = np.array(bs_boot2['t1']).mean()\n",
    "t1_se = np.array(bs_boot2['t1']).std()\n",
    "t2_es = np.array(bs_boot2['t2']).mean()\n",
    "t2_se = np.array(bs_boot2['t2']).std()\n",
    "t3_es = np.array(bs_boot2['t3']).mean()\n",
    "t3_se = np.array(bs_boot2['t3']).std()\n",
    "\n",
    "print('t1 bs estimate & se:', t1_es, t1_se)\n",
    "print('t2 bs estimate & se:', t2_es, t2_se)\n",
    "print('t3 bs estimate & se:', t3_es, t3_se)"
   ]
  },
  {
   "cell_type": "code",
   "execution_count": 23,
   "metadata": {},
   "outputs": [
    {
     "data": {
      "text/html": [
       "<table class=\"simpletable\">\n",
       "<tr>\n",
       "        <td></td>          <th>coef</th>     <th>std err</th>      <th>t</th>      <th>P>|t|</th>  <th>[0.025</th>    <th>0.975]</th>  \n",
       "</tr>\n",
       "<tr>\n",
       "  <th>Intercept</th>    <td>   56.9001</td> <td>    1.800</td> <td>   31.604</td> <td> 0.000</td> <td>   53.360</td> <td>   60.440</td>\n",
       "</tr>\n",
       "<tr>\n",
       "  <th>horsepower</th>   <td>   -0.4662</td> <td>    0.031</td> <td>  -14.978</td> <td> 0.000</td> <td>   -0.527</td> <td>   -0.405</td>\n",
       "</tr>\n",
       "<tr>\n",
       "  <th>horsepower_2</th> <td>    0.0012</td> <td>    0.000</td> <td>   10.080</td> <td> 0.000</td> <td>    0.001</td> <td>    0.001</td>\n",
       "</tr>\n",
       "</table>"
      ],
      "text/plain": [
       "<class 'statsmodels.iolib.table.SimpleTable'>"
      ]
     },
     "execution_count": 23,
     "metadata": {},
     "output_type": "execute_result"
    }
   ],
   "source": [
    "import statsmodels.formula.api as sm\n",
    "\n",
    "ols2 = sm.ols('mpg ~ horsepower + horsepower_2', data=auto).fit()\n",
    "ols2.summary().tables[1]"
   ]
  }
 ],
 "metadata": {
  "kernelspec": {
   "display_name": "Python 3",
   "language": "python",
   "name": "python3"
  },
  "language_info": {
   "codemirror_mode": {
    "name": "ipython",
    "version": 3
   },
   "file_extension": ".py",
   "mimetype": "text/x-python",
   "name": "python",
   "nbconvert_exporter": "python",
   "pygments_lexer": "ipython3",
   "version": "3.7.4"
  }
 },
 "nbformat": 4,
 "nbformat_minor": 2
}
